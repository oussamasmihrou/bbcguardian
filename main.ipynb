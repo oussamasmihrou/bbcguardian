{
 "cells": [
  {
   "cell_type": "markdown",
   "metadata": {},
   "source": [
    "## Notes and ideas :\n",
    "- look for the frequency of publication of articles.\n",
    "#### Features to be included in the template:\n",
    "- Images with more weighting than the body of the article ( they may contain more information and impact on the reader).\n",
    "- Measure the degree of objectivity or subjectivity (using the Vader metric) of bbc news writers by calculating the average distance of a bbc article from neutralitypoint (this could be done by applying the prediction model on more various categories -hence more data injected) , input this into your main model.\n",
    "- Count the number of authors and see if studying each author separately is efficient, knowing that no much writters write in the climate rubrique.\n",
    "- A picture (if subjective) is worth a thousand words\", but if it is not significant, i.e. objective, it has no impact, no matter how much we consider it, the final result will not be affected. so we multiply the picture text (not a thousand times ofc hhh) to ponder with the rest of the article content.\n",
    "\n",
    "## Insight :\n",
    "- Transfer learning is already applied, make sure in the insight that you offer a path to relearn the Vader program to articles similar to bbc news.  "
   ]
  },
  {
   "cell_type": "code",
   "execution_count": 64,
   "metadata": {},
   "outputs": [],
   "source": [
    "import requests\n",
    "import json\n",
    "import numpy as np\n",
    "import pandas as pd\n",
    "import matplotlib\n",
    "from newsapi import NewsApiClient\n",
    "from bs4 import BeautifulSoup\n",
    "import requests\n",
    "import csv\n",
    "import os\n",
    "import urllib.request\n",
    "from tqdm import *"
   ]
  },
  {
   "cell_type": "markdown",
   "metadata": {},
   "source": [
    "# I- Fetching data :"
   ]
  },
  {
   "cell_type": "markdown",
   "metadata": {},
   "source": [
    "Used to fetch news data using an original scrapper, including published images, so they be injected into the model as additional features  "
   ]
  },
  {
   "cell_type": "code",
   "execution_count": 65,
   "metadata": {},
   "outputs": [],
   "source": [
    "def scrap_one_article(url,_,nbr_articles):\n",
    "    try:\n",
    "        dirName = 'images'\n",
    "        os.mkdir(dirName)\n",
    "    except:\n",
    "        pass\n",
    "    response = requests.get(url)\n",
    "    soup = BeautifulSoup(response.text, 'lxml')\n",
    "\n",
    "    csv_file = open('bbc_news.csv', 'a')\n",
    "\n",
    "    csv_writer = csv.writer(csv_file)\n",
    "    csv_writer.writerow(['headline', 'summary', 'image_link', 'category'])\n",
    "    i = 98\n",
    "    try:\n",
    "        title = soup.find_all(class_ = 'gs-c-promo-heading-title')[0].text\n",
    "        Text = article.find(class_='gs-c-promo-summary').text\n",
    "        category = article.find(class_='gs-c-section-link').text.strip()\n",
    "    except Exception as e:\n",
    "        category = 'None'\n",
    "\n",
    "    try:\n",
    "        image_tag = str(article.find('img'))\n",
    "        elements = image_tag.split('src=\"')\n",
    "        image_link = elements[1].split('\"')[0]\n",
    "    except Exception as e:\n",
    "        image_link = None\n",
    "    Content_list = soup.find_all(class_ = 'eq5iqo00')\n",
    "    article_content = build_text(Content_list)\n",
    "    print('fetched the name of author :')\n",
    "    print(\"fetched the article's content : \",article_content[:100],f' +[{len(article_content)-100}] ',)\n",
    "    article_dic= {'id': _ ,'author':None,'article_content':article_content}\n",
    "    \n",
    "    download_images(soup,_,nbr_articles)\n",
    "    return article_dic"
   ]
  },
  {
   "cell_type": "code",
   "execution_count": 66,
   "metadata": {},
   "outputs": [],
   "source": [
    "def build_text(list_):\n",
    "    list_.pop()\n",
    "    return '\\n'.join([x.text for x in list_])\n",
    "def dl_img(url, file_path, file_name):\n",
    "    full_path = file_path + file_name + '.jpg'\n",
    "    urllib.request.urlretrieve(url, full_path)\n",
    "    return full_path\n",
    "def download_images(soup_result,article_index,nbr_articles):\n",
    "    nbr_img = 0\n",
    "    try:\n",
    "        os.mkdir(f'images/Article{article_index}')\n",
    "    except:\n",
    "        pass\n",
    "    img_results = [res['src'] for res in soup_result.find_all('img')]\n",
    "    for i in tqdm(range(len(img_results)),desc = f'Downloading images /{nbr_articles}'):\n",
    "        image_link = img_results[i]\n",
    "        image_link_loc = f'images/Article{article_index}/'\n",
    "        file_name = f'img{i}'\n",
    "        try:\n",
    "            image_link_local = dl_img(image_link,image_link_loc, file_name)\n",
    "            i += 1\n",
    "            nbr_img+=1\n",
    "        except Exception as identifier:\n",
    "            image_link_local = \"EXTERNAL: \" + image_link\n",
    "            i += 1\n",
    "    print('\\nArticle',article_index,\"'s\",nbr_img,' images were downloaded succesfully, ',nbr_articles,'articles remains')\n",
    "def get_links_list(soup):\n",
    "        results = soup.find_all('a',class_ = 'gs-c-promo-heading')\n",
    "        links_list = ['http://www.bbc.com/'+res['href'] for res in results]\n",
    "        return links_list"
   ]
  },
  {
   "cell_type": "code",
   "execution_count": 80,
   "metadata": {},
   "outputs": [],
   "source": [
    "def scrap_bbc_articles(category_url):\n",
    "    url = category_url\n",
    "    response = requests.get(url)\n",
    "    print('Request status (200 means a succesful request): ',response.status_code)\n",
    "    soup = BeautifulSoup(response.text, 'lxml')\n",
    "    csv_file = open('bbc_news.csv', 'a')\n",
    "    csv_writer = csv.writer(csv_file)\n",
    "    csv_writer.writerow(['id', 'title', 'publishing date', 'body'])\n",
    "    links = get_links_list(soup)\n",
    "    print('Fetching data from ',len(links) ,'bbc news climate articles')\n",
    "    results = []\n",
    "    for _ in range(1,len(links)):  # Covers all the articles len(links)+1\n",
    "        print('------------------------------------')\n",
    "        try: \n",
    "            A = scrap_one_article(links[_],_,len(links))\n",
    "            results.append(A)\n",
    "        except: ValueError\n",
    "    return results\n"
   ]
  },
  {
   "cell_type": "code",
   "execution_count": 81,
   "metadata": {},
   "outputs": [
    {
     "name": "stdout",
     "output_type": "stream",
     "text": [
      "Request status (200 means a succesful request):  200\n",
      "Fetching data from  43 bbc news climate articles\n",
      "------------------------------------\n"
     ]
    },
    {
     "name": "stderr",
     "output_type": "stream",
     "text": [
      "Downloading images /43:   0%|                                                                   | 0/17 [00:00<?, ?it/s]"
     ]
    },
    {
     "name": "stdout",
     "output_type": "stream",
     "text": [
      "fetched the name of author :\n",
      "fetched the article's content :  When eight teenagers and an elderly nun in Australia teamed up for a climate case, they won, in a hi  +[7903] \n"
     ]
    },
    {
     "name": "stderr",
     "output_type": "stream",
     "text": [
      "Downloading images /43: 100%|██████████████████████████████████████████████████████████| 17/17 [00:04<00:00,  4.20it/s]\n"
     ]
    },
    {
     "name": "stdout",
     "output_type": "stream",
     "text": [
      "\n",
      "Article 1 's 17  images were downloaded succesfully,  43 articles remains\n",
      "------------------------------------\n"
     ]
    },
    {
     "name": "stderr",
     "output_type": "stream",
     "text": [
      "Downloading images /43:   0%|                                                                   | 0/13 [00:00<?, ?it/s]"
     ]
    },
    {
     "name": "stdout",
     "output_type": "stream",
     "text": [
      "fetched the name of author :\n",
      "fetched the article's content :  The highest temperature ever recorded in the Arctic, 38C (100F), has been officially confirmed, soun  +[2977] \n"
     ]
    },
    {
     "name": "stderr",
     "output_type": "stream",
     "text": [
      "Downloading images /43: 100%|██████████████████████████████████████████████████████████| 13/13 [00:02<00:00,  5.25it/s]\n"
     ]
    },
    {
     "name": "stdout",
     "output_type": "stream",
     "text": [
      "\n",
      "Article 2 's 13  images were downloaded succesfully,  43 articles remains\n",
      "------------------------------------\n"
     ]
    },
    {
     "name": "stderr",
     "output_type": "stream",
     "text": [
      "Downloading images /43:   7%|███▉                                                       | 1/15 [00:00<00:02,  5.66it/s]"
     ]
    },
    {
     "name": "stdout",
     "output_type": "stream",
     "text": [
      "fetched the name of author :\n",
      "fetched the article's content :  Scientists are warning of dramatic changes at one of the biggest glaciers in Antarctica, potentially  +[4397] \n"
     ]
    },
    {
     "name": "stderr",
     "output_type": "stream",
     "text": [
      "Downloading images /43: 100%|██████████████████████████████████████████████████████████| 15/15 [00:04<00:00,  3.03it/s]\n"
     ]
    },
    {
     "name": "stdout",
     "output_type": "stream",
     "text": [
      "\n",
      "Article 3 's 15  images were downloaded succesfully,  43 articles remains\n",
      "------------------------------------\n"
     ]
    },
    {
     "name": "stderr",
     "output_type": "stream",
     "text": [
      "Downloading images /43:   0%|                                                                   | 0/25 [00:00<?, ?it/s]"
     ]
    },
    {
     "name": "stdout",
     "output_type": "stream",
     "text": [
      "fetched the name of author :\n",
      "fetched the article's content :  Making your home more energy efficient can be costly and may not be possible if you're renting, or y  +[4569] \n"
     ]
    },
    {
     "name": "stderr",
     "output_type": "stream",
     "text": [
      "Downloading images /43: 100%|██████████████████████████████████████████████████████████| 25/25 [00:10<00:00,  2.43it/s]\n"
     ]
    },
    {
     "name": "stdout",
     "output_type": "stream",
     "text": [
      "\n",
      "Article 4 's 25  images were downloaded succesfully,  43 articles remains\n",
      "------------------------------------\n"
     ]
    },
    {
     "name": "stderr",
     "output_type": "stream",
     "text": [
      "Downloading images /43:   0%|                                                                   | 0/17 [00:00<?, ?it/s]"
     ]
    },
    {
     "name": "stdout",
     "output_type": "stream",
     "text": [
      "fetched the name of author :\n",
      "fetched the article's content :  Indonesia pledged at the recent COP26 climate summit that its greenhouse gas emissions would peak by  +[5474] \n"
     ]
    },
    {
     "name": "stderr",
     "output_type": "stream",
     "text": [
      "Downloading images /43: 100%|██████████████████████████████████████████████████████████| 17/17 [00:03<00:00,  4.55it/s]\n"
     ]
    },
    {
     "name": "stdout",
     "output_type": "stream",
     "text": [
      "\n",
      "Article 5 's 17  images were downloaded succesfully,  43 articles remains\n",
      "------------------------------------\n"
     ]
    },
    {
     "name": "stderr",
     "output_type": "stream",
     "text": [
      "Downloading images /43:   0%|                                                                   | 0/16 [00:00<?, ?it/s]"
     ]
    },
    {
     "name": "stdout",
     "output_type": "stream",
     "text": [
      "fetched the name of author :\n",
      "fetched the article's content :  It's a glorious autumn afternoon and I'm standing on a hillside looking out over Tokyo Bay. Beside m  +[6721] \n"
     ]
    },
    {
     "name": "stderr",
     "output_type": "stream",
     "text": [
      "Downloading images /43: 100%|██████████████████████████████████████████████████████████| 16/16 [00:03<00:00,  4.18it/s]\n"
     ]
    },
    {
     "name": "stdout",
     "output_type": "stream",
     "text": [
      "\n",
      "Article 6 's 16  images were downloaded succesfully,  43 articles remains\n",
      "------------------------------------\n"
     ]
    },
    {
     "name": "stderr",
     "output_type": "stream",
     "text": [
      "Downloading images /43:   0%|                                                                   | 0/19 [00:00<?, ?it/s]"
     ]
    },
    {
     "name": "stdout",
     "output_type": "stream",
     "text": [
      "fetched the name of author :\n",
      "fetched the article's content :  Business leaders have warned that thousands of oil and gas jobs could be at risk in the UK after She  +[6016] \n"
     ]
    },
    {
     "name": "stderr",
     "output_type": "stream",
     "text": [
      "Downloading images /43: 100%|██████████████████████████████████████████████████████████| 19/19 [00:04<00:00,  4.63it/s]\n"
     ]
    },
    {
     "name": "stdout",
     "output_type": "stream",
     "text": [
      "\n",
      "Article 7 's 19  images were downloaded succesfully,  43 articles remains\n",
      "------------------------------------\n"
     ]
    },
    {
     "name": "stderr",
     "output_type": "stream",
     "text": [
      "Downloading images /43:   0%|                                                                   | 0/17 [00:00<?, ?it/s]"
     ]
    },
    {
     "name": "stdout",
     "output_type": "stream",
     "text": [
      "fetched the name of author :\n",
      "fetched the article's content :  When eight teenagers and an elderly nun in Australia teamed up for a climate case, they won, in a hi  +[7903] \n"
     ]
    },
    {
     "name": "stderr",
     "output_type": "stream",
     "text": [
      "Downloading images /43: 100%|██████████████████████████████████████████████████████████| 17/17 [00:03<00:00,  4.78it/s]\n"
     ]
    },
    {
     "name": "stdout",
     "output_type": "stream",
     "text": [
      "\n",
      "Article 8 's 17  images were downloaded succesfully,  43 articles remains\n",
      "------------------------------------\n"
     ]
    },
    {
     "name": "stderr",
     "output_type": "stream",
     "text": [
      "Downloading images /43:   0%|                                                                   | 0/13 [00:00<?, ?it/s]"
     ]
    },
    {
     "name": "stdout",
     "output_type": "stream",
     "text": [
      "fetched the name of author :\n",
      "fetched the article's content :  The highest temperature ever recorded in the Arctic, 38C (100F), has been officially confirmed, soun  +[2977] \n"
     ]
    },
    {
     "name": "stderr",
     "output_type": "stream",
     "text": [
      "Downloading images /43: 100%|██████████████████████████████████████████████████████████| 13/13 [00:02<00:00,  4.75it/s]\n"
     ]
    },
    {
     "name": "stdout",
     "output_type": "stream",
     "text": [
      "\n",
      "Article 9 's 13  images were downloaded succesfully,  43 articles remains\n",
      "------------------------------------\n"
     ]
    },
    {
     "name": "stderr",
     "output_type": "stream",
     "text": [
      "Downloading images /43:   0%|                                                                   | 0/15 [00:00<?, ?it/s]"
     ]
    },
    {
     "name": "stdout",
     "output_type": "stream",
     "text": [
      "fetched the name of author :\n",
      "fetched the article's content :  Scientists are warning of dramatic changes at one of the biggest glaciers in Antarctica, potentially  +[4397] \n"
     ]
    },
    {
     "name": "stderr",
     "output_type": "stream",
     "text": [
      "Downloading images /43: 100%|██████████████████████████████████████████████████████████| 15/15 [00:05<00:00,  2.93it/s]\n"
     ]
    },
    {
     "name": "stdout",
     "output_type": "stream",
     "text": [
      "\n",
      "Article 10 's 15  images were downloaded succesfully,  43 articles remains\n",
      "------------------------------------\n"
     ]
    },
    {
     "name": "stderr",
     "output_type": "stream",
     "text": [
      "Downloading images /43:   0%|                                                                   | 0/25 [00:00<?, ?it/s]"
     ]
    },
    {
     "name": "stdout",
     "output_type": "stream",
     "text": [
      "fetched the name of author :\n",
      "fetched the article's content :  Making your home more energy efficient can be costly and may not be possible if you're renting, or y  +[4569] \n"
     ]
    },
    {
     "name": "stderr",
     "output_type": "stream",
     "text": [
      "Downloading images /43: 100%|██████████████████████████████████████████████████████████| 25/25 [00:07<00:00,  3.25it/s]\n"
     ]
    },
    {
     "name": "stdout",
     "output_type": "stream",
     "text": [
      "\n",
      "Article 11 's 25  images were downloaded succesfully,  43 articles remains\n",
      "------------------------------------\n"
     ]
    },
    {
     "name": "stderr",
     "output_type": "stream",
     "text": [
      "Downloading images /43:   0%|                                                                   | 0/17 [00:00<?, ?it/s]"
     ]
    },
    {
     "name": "stdout",
     "output_type": "stream",
     "text": [
      "fetched the name of author :\n",
      "fetched the article's content :  Indonesia pledged at the recent COP26 climate summit that its greenhouse gas emissions would peak by  +[5474] \n"
     ]
    },
    {
     "name": "stderr",
     "output_type": "stream",
     "text": [
      "Downloading images /43: 100%|██████████████████████████████████████████████████████████| 17/17 [00:04<00:00,  3.73it/s]\n"
     ]
    },
    {
     "name": "stdout",
     "output_type": "stream",
     "text": [
      "\n",
      "Article 12 's 17  images were downloaded succesfully,  43 articles remains\n",
      "------------------------------------\n"
     ]
    },
    {
     "name": "stderr",
     "output_type": "stream",
     "text": [
      "Downloading images /43:   0%|                                                                   | 0/16 [00:00<?, ?it/s]"
     ]
    },
    {
     "name": "stdout",
     "output_type": "stream",
     "text": [
      "fetched the name of author :\n",
      "fetched the article's content :  It's a glorious autumn afternoon and I'm standing on a hillside looking out over Tokyo Bay. Beside m  +[6721] \n"
     ]
    },
    {
     "name": "stderr",
     "output_type": "stream",
     "text": [
      "Downloading images /43: 100%|██████████████████████████████████████████████████████████| 16/16 [00:06<00:00,  2.41it/s]\n"
     ]
    },
    {
     "name": "stdout",
     "output_type": "stream",
     "text": [
      "\n",
      "Article 13 's 16  images were downloaded succesfully,  43 articles remains\n",
      "------------------------------------\n"
     ]
    },
    {
     "name": "stderr",
     "output_type": "stream",
     "text": [
      "Downloading images /43:   0%|                                                                   | 0/19 [00:00<?, ?it/s]"
     ]
    },
    {
     "name": "stdout",
     "output_type": "stream",
     "text": [
      "fetched the name of author :\n",
      "fetched the article's content :  Business leaders have warned that thousands of oil and gas jobs could be at risk in the UK after She  +[6016] \n"
     ]
    },
    {
     "name": "stderr",
     "output_type": "stream",
     "text": [
      "Downloading images /43: 100%|██████████████████████████████████████████████████████████| 19/19 [00:05<00:00,  3.62it/s]\n"
     ]
    },
    {
     "name": "stdout",
     "output_type": "stream",
     "text": [
      "\n",
      "Article 14 's 19  images were downloaded succesfully,  43 articles remains\n",
      "------------------------------------\n"
     ]
    },
    {
     "name": "stderr",
     "output_type": "stream",
     "text": [
      "Downloading images /43:   0%|                                                                   | 0/13 [00:00<?, ?it/s]"
     ]
    },
    {
     "name": "stdout",
     "output_type": "stream",
     "text": [
      "fetched the name of author :\n",
      "fetched the article's content :  The highest temperature ever recorded in the Arctic, 38C (100F), has been officially confirmed, soun  +[2977] \n"
     ]
    },
    {
     "name": "stderr",
     "output_type": "stream",
     "text": [
      "Downloading images /43: 100%|██████████████████████████████████████████████████████████| 13/13 [00:03<00:00,  3.66it/s]\n"
     ]
    },
    {
     "name": "stdout",
     "output_type": "stream",
     "text": [
      "\n",
      "Article 15 's 13  images were downloaded succesfully,  43 articles remains\n",
      "------------------------------------\n"
     ]
    },
    {
     "name": "stderr",
     "output_type": "stream",
     "text": [
      "Downloading images /43:   0%|                                                                   | 0/15 [00:00<?, ?it/s]"
     ]
    },
    {
     "name": "stdout",
     "output_type": "stream",
     "text": [
      "fetched the name of author :\n",
      "fetched the article's content :  Scientists are warning of dramatic changes at one of the biggest glaciers in Antarctica, potentially  +[4397] \n"
     ]
    },
    {
     "name": "stderr",
     "output_type": "stream",
     "text": [
      "Downloading images /43: 100%|██████████████████████████████████████████████████████████| 15/15 [00:06<00:00,  2.23it/s]\n"
     ]
    },
    {
     "name": "stdout",
     "output_type": "stream",
     "text": [
      "\n",
      "Article 16 's 15  images were downloaded succesfully,  43 articles remains\n",
      "------------------------------------\n"
     ]
    },
    {
     "name": "stderr",
     "output_type": "stream",
     "text": [
      "Downloading images /43:   0%|                                                                   | 0/25 [00:00<?, ?it/s]"
     ]
    },
    {
     "name": "stdout",
     "output_type": "stream",
     "text": [
      "fetched the name of author :\n",
      "fetched the article's content :  Making your home more energy efficient can be costly and may not be possible if you're renting, or y  +[4569] \n"
     ]
    },
    {
     "name": "stderr",
     "output_type": "stream",
     "text": [
      "Downloading images /43: 100%|██████████████████████████████████████████████████████████| 25/25 [00:09<00:00,  2.54it/s]\n"
     ]
    },
    {
     "name": "stdout",
     "output_type": "stream",
     "text": [
      "\n",
      "Article 17 's 25  images were downloaded succesfully,  43 articles remains\n",
      "------------------------------------\n"
     ]
    },
    {
     "name": "stderr",
     "output_type": "stream",
     "text": [
      "Downloading images /43:   0%|                                                                   | 0/17 [00:00<?, ?it/s]"
     ]
    },
    {
     "name": "stdout",
     "output_type": "stream",
     "text": [
      "fetched the name of author :\n",
      "fetched the article's content :  Indonesia pledged at the recent COP26 climate summit that its greenhouse gas emissions would peak by  +[5474] \n"
     ]
    },
    {
     "name": "stderr",
     "output_type": "stream",
     "text": [
      "Downloading images /43: 100%|██████████████████████████████████████████████████████████| 17/17 [00:03<00:00,  4.32it/s]\n"
     ]
    },
    {
     "name": "stdout",
     "output_type": "stream",
     "text": [
      "\n",
      "Article 18 's 17  images were downloaded succesfully,  43 articles remains\n",
      "------------------------------------\n"
     ]
    },
    {
     "name": "stderr",
     "output_type": "stream",
     "text": [
      "Downloading images /43:   0%|                                                                   | 0/16 [00:00<?, ?it/s]"
     ]
    },
    {
     "name": "stdout",
     "output_type": "stream",
     "text": [
      "fetched the name of author :\n",
      "fetched the article's content :  It's a glorious autumn afternoon and I'm standing on a hillside looking out over Tokyo Bay. Beside m  +[6721] \n"
     ]
    },
    {
     "name": "stderr",
     "output_type": "stream",
     "text": [
      "Downloading images /43: 100%|██████████████████████████████████████████████████████████| 16/16 [00:03<00:00,  4.21it/s]\n"
     ]
    },
    {
     "name": "stdout",
     "output_type": "stream",
     "text": [
      "\n",
      "Article 19 's 16  images were downloaded succesfully,  43 articles remains\n",
      "------------------------------------\n"
     ]
    },
    {
     "name": "stderr",
     "output_type": "stream",
     "text": [
      "Downloading images /43:   0%|                                                                   | 0/19 [00:00<?, ?it/s]"
     ]
    },
    {
     "name": "stdout",
     "output_type": "stream",
     "text": [
      "fetched the name of author :\n",
      "fetched the article's content :  Business leaders have warned that thousands of oil and gas jobs could be at risk in the UK after She  +[6016] \n"
     ]
    },
    {
     "name": "stderr",
     "output_type": "stream",
     "text": [
      "Downloading images /43: 100%|██████████████████████████████████████████████████████████| 19/19 [00:04<00:00,  4.26it/s]\n"
     ]
    },
    {
     "name": "stdout",
     "output_type": "stream",
     "text": [
      "\n",
      "Article 20 's 19  images were downloaded succesfully,  43 articles remains\n",
      "------------------------------------\n"
     ]
    },
    {
     "name": "stderr",
     "output_type": "stream",
     "text": [
      "Downloading images /43:   0%|                                                                   | 0/21 [00:00<?, ?it/s]"
     ]
    },
    {
     "name": "stdout",
     "output_type": "stream",
     "text": [
      "fetched the name of author :\n",
      "fetched the article's content :  A new global agreement - the Glasgow Climate Pact - was reached at the COP26 summit.\n",
      "It aims to redu  +[4388] \n"
     ]
    },
    {
     "name": "stderr",
     "output_type": "stream",
     "text": [
      "Downloading images /43: 100%|██████████████████████████████████████████████████████████| 21/21 [00:05<00:00,  3.96it/s]\n"
     ]
    },
    {
     "name": "stdout",
     "output_type": "stream",
     "text": [
      "\n",
      "Article 21 's 21  images were downloaded succesfully,  43 articles remains\n",
      "------------------------------------\n"
     ]
    },
    {
     "name": "stderr",
     "output_type": "stream",
     "text": [
      "Downloading images /43:   0%|                                                                   | 0/17 [00:00<?, ?it/s]"
     ]
    },
    {
     "name": "stdout",
     "output_type": "stream",
     "text": [
      "fetched the name of author :\n",
      "fetched the article's content :  As the COP26 climate summit enters its second week, negotiations in Glasgow have hit a critical phas  +[5830] \n"
     ]
    },
    {
     "name": "stderr",
     "output_type": "stream",
     "text": [
      "Downloading images /43: 100%|██████████████████████████████████████████████████████████| 17/17 [00:04<00:00,  4.19it/s]\n"
     ]
    },
    {
     "name": "stdout",
     "output_type": "stream",
     "text": [
      "\n",
      "Article 22 's 17  images were downloaded succesfully,  43 articles remains\n",
      "------------------------------------\n"
     ]
    },
    {
     "name": "stderr",
     "output_type": "stream",
     "text": [
      "Downloading images /43:   0%|                                                                   | 0/18 [00:00<?, ?it/s]"
     ]
    },
    {
     "name": "stdout",
     "output_type": "stream",
     "text": [
      "fetched the name of author :\n",
      "fetched the article's content :  It's the end of week one at the COP26 climate conference in Glasgow, and world leaders have already   +[12545] \n"
     ]
    },
    {
     "name": "stderr",
     "output_type": "stream",
     "text": [
      "Downloading images /43: 100%|██████████████████████████████████████████████████████████| 18/18 [00:04<00:00,  3.99it/s]\n"
     ]
    },
    {
     "name": "stdout",
     "output_type": "stream",
     "text": [
      "\n",
      "Article 23 's 18  images were downloaded succesfully,  43 articles remains\n",
      "------------------------------------\n"
     ]
    },
    {
     "name": "stderr",
     "output_type": "stream",
     "text": [
      "Downloading images /43:   0%|                                                                   | 0/21 [00:00<?, ?it/s]"
     ]
    },
    {
     "name": "stdout",
     "output_type": "stream",
     "text": [
      "fetched the name of author :\n",
      "fetched the article's content :  World leaders have pledged to end and reverse deforestation by 2030.\n",
      "But in Brazil's Amazon rainfore  +[4398] \n"
     ]
    },
    {
     "name": "stderr",
     "output_type": "stream",
     "text": [
      "Downloading images /43: 100%|██████████████████████████████████████████████████████████| 21/21 [00:04<00:00,  4.54it/s]\n"
     ]
    },
    {
     "name": "stdout",
     "output_type": "stream",
     "text": [
      "\n",
      "Article 24 's 21  images were downloaded succesfully,  43 articles remains\n",
      "------------------------------------\n"
     ]
    },
    {
     "name": "stderr",
     "output_type": "stream",
     "text": [
      "Downloading images /43:   0%|                                                                   | 0/19 [00:00<?, ?it/s]"
     ]
    },
    {
     "name": "stdout",
     "output_type": "stream",
     "text": [
      "fetched the name of author :\n",
      "fetched the article's content :  There has been criticism of the number of world leaders and other delegates who have travelled to th  +[4785] \n"
     ]
    },
    {
     "name": "stderr",
     "output_type": "stream",
     "text": [
      "Downloading images /43: 100%|██████████████████████████████████████████████████████████| 19/19 [00:04<00:00,  4.69it/s]\n"
     ]
    },
    {
     "name": "stdout",
     "output_type": "stream",
     "text": [
      "\n",
      "Article 25 's 19  images were downloaded succesfully,  43 articles remains\n",
      "------------------------------------\n"
     ]
    },
    {
     "name": "stderr",
     "output_type": "stream",
     "text": [
      "Downloading images /43:   0%|                                                                   | 0/20 [00:00<?, ?it/s]"
     ]
    },
    {
     "name": "stdout",
     "output_type": "stream",
     "text": [
      "fetched the name of author :\n",
      "fetched the article's content :  World temperatures are rising because of human activity, and climate change now threatens every aspe  +[5415] \n"
     ]
    },
    {
     "name": "stderr",
     "output_type": "stream",
     "text": [
      "Downloading images /43: 100%|██████████████████████████████████████████████████████████| 20/20 [00:04<00:00,  4.03it/s]\n"
     ]
    },
    {
     "name": "stdout",
     "output_type": "stream",
     "text": [
      "\n",
      "Article 26 's 20  images were downloaded succesfully,  43 articles remains\n",
      "------------------------------------\n"
     ]
    },
    {
     "name": "stderr",
     "output_type": "stream",
     "text": [
      "Downloading images /43:   0%|                                                                   | 0/17 [00:00<?, ?it/s]"
     ]
    },
    {
     "name": "stdout",
     "output_type": "stream",
     "text": [
      "fetched the name of author :\n",
      "fetched the article's content :  Scientists and politicians say we are facing a planetary crisis because of climate change. \n",
      "But what  +[4650] \n"
     ]
    },
    {
     "name": "stderr",
     "output_type": "stream",
     "text": [
      "Downloading images /43: 100%|██████████████████████████████████████████████████████████| 17/17 [00:03<00:00,  4.57it/s]\n"
     ]
    },
    {
     "name": "stdout",
     "output_type": "stream",
     "text": [
      "\n",
      "Article 27 's 17  images were downloaded succesfully,  43 articles remains\n",
      "------------------------------------\n",
      "------------------------------------\n",
      "fetched the name of author :\n",
      "fetched the article's content :  Avoiding meat and dairy products is one of the biggest ways to reduce your environmental impact, acc  +[7141] \n",
      "------------------------------------\n"
     ]
    },
    {
     "name": "stderr",
     "output_type": "stream",
     "text": [
      "Downloading images /43:   0%|                                                                   | 0/15 [00:00<?, ?it/s]"
     ]
    },
    {
     "name": "stdout",
     "output_type": "stream",
     "text": [
      "fetched the name of author :\n",
      "fetched the article's content :  Countries have set out plans to cut greenhouse gas emissions, at the COP26 climate change summit in   +[4357] \n"
     ]
    },
    {
     "name": "stderr",
     "output_type": "stream",
     "text": [
      "Downloading images /43: 100%|██████████████████████████████████████████████████████████| 15/15 [00:03<00:00,  3.78it/s]\n"
     ]
    },
    {
     "name": "stdout",
     "output_type": "stream",
     "text": [
      "\n",
      "Article 30 's 15  images were downloaded succesfully,  43 articles remains\n",
      "------------------------------------\n"
     ]
    },
    {
     "name": "stderr",
     "output_type": "stream",
     "text": [
      "Downloading images /43:   0%|                                                                   | 0/14 [00:00<?, ?it/s]"
     ]
    },
    {
     "name": "stdout",
     "output_type": "stream",
     "text": [
      "fetched the name of author :\n",
      "fetched the article's content :  Re-flooding coastal wetlands could provide an opportunity to \"work with nature\" and use sea level ri  +[2036] \n"
     ]
    },
    {
     "name": "stderr",
     "output_type": "stream",
     "text": [
      "Downloading images /43: 100%|██████████████████████████████████████████████████████████| 14/14 [00:03<00:00,  4.61it/s]\n"
     ]
    },
    {
     "name": "stdout",
     "output_type": "stream",
     "text": [
      "\n",
      "Article 31 's 14  images were downloaded succesfully,  43 articles remains\n",
      "------------------------------------\n"
     ]
    },
    {
     "name": "stderr",
     "output_type": "stream",
     "text": [
      "Downloading images /43:   0%|                                                                   | 0/14 [00:00<?, ?it/s]"
     ]
    },
    {
     "name": "stdout",
     "output_type": "stream",
     "text": [
      "fetched the name of author :\n",
      "fetched the article's content :  In our monthly feature, Then and Now, we reveal some of the ways that planet Earth has been changing  +[4404] \n"
     ]
    },
    {
     "name": "stderr",
     "output_type": "stream",
     "text": [
      "Downloading images /43: 100%|██████████████████████████████████████████████████████████| 14/14 [00:02<00:00,  4.76it/s]\n"
     ]
    },
    {
     "name": "stdout",
     "output_type": "stream",
     "text": [
      "\n",
      "Article 32 's 14  images were downloaded succesfully,  43 articles remains\n",
      "------------------------------------\n"
     ]
    },
    {
     "name": "stderr",
     "output_type": "stream",
     "text": [
      "Downloading images /43:   0%|                                                                   | 0/14 [00:00<?, ?it/s]"
     ]
    },
    {
     "name": "stdout",
     "output_type": "stream",
     "text": [
      "fetched the name of author :\n",
      "fetched the article's content :  In our monthly feature, Then and Now, we reveal some of the ways that planet Earth has been changing  +[3032] \n"
     ]
    },
    {
     "name": "stderr",
     "output_type": "stream",
     "text": [
      "Downloading images /43: 100%|██████████████████████████████████████████████████████████| 14/14 [00:03<00:00,  4.27it/s]\n"
     ]
    },
    {
     "name": "stdout",
     "output_type": "stream",
     "text": [
      "\n",
      "Article 33 's 14  images were downloaded succesfully,  43 articles remains\n",
      "------------------------------------\n"
     ]
    },
    {
     "name": "stderr",
     "output_type": "stream",
     "text": [
      "Downloading images /43:   0%|                                                                   | 0/17 [00:00<?, ?it/s]"
     ]
    },
    {
     "name": "stdout",
     "output_type": "stream",
     "text": [
      "fetched the name of author :\n",
      "fetched the article's content :  In our monthly feature, Then and Now, we reveal some of the ways that planet Earth has been changing  +[5733] \n"
     ]
    },
    {
     "name": "stderr",
     "output_type": "stream",
     "text": [
      "Downloading images /43: 100%|██████████████████████████████████████████████████████████| 17/17 [00:04<00:00,  3.95it/s]\n"
     ]
    },
    {
     "name": "stdout",
     "output_type": "stream",
     "text": [
      "\n",
      "Article 34 's 17  images were downloaded succesfully,  43 articles remains\n",
      "------------------------------------\n"
     ]
    },
    {
     "name": "stderr",
     "output_type": "stream",
     "text": [
      "Downloading images /43:   0%|                                                                   | 0/16 [00:00<?, ?it/s]"
     ]
    },
    {
     "name": "stdout",
     "output_type": "stream",
     "text": [
      "fetched the name of author :\n",
      "fetched the article's content :  In our monthly feature, Then and Now, we reveal some of the ways that planet Earth has been changing  +[3649] \n"
     ]
    },
    {
     "name": "stderr",
     "output_type": "stream",
     "text": [
      "Downloading images /43: 100%|██████████████████████████████████████████████████████████| 16/16 [00:03<00:00,  4.33it/s]"
     ]
    },
    {
     "name": "stdout",
     "output_type": "stream",
     "text": [
      "\n",
      "Article 35 's 16  images were downloaded succesfully,  43 articles remains\n",
      "------------------------------------\n"
     ]
    },
    {
     "name": "stderr",
     "output_type": "stream",
     "text": [
      "\n"
     ]
    },
    {
     "name": "stdout",
     "output_type": "stream",
     "text": [
      "------------------------------------\n",
      "------------------------------------\n",
      "------------------------------------\n",
      "------------------------------------\n",
      "------------------------------------\n",
      "------------------------------------\n"
     ]
    }
   ],
   "source": [
    "climate_url = 'https://www.bbc.com/news/science-environment-56837908'\n",
    "data = scrap_bbc_articles(climate_url)\n",
    "def fetch_clean_data(data_list): \n",
    "    article_results = [] \n",
    "    for i in range(len(data_list)):\n",
    "        try:\n",
    "            article_dict = {}\n",
    "            article_dict['id'] = data_list[i]['id']\n",
    "            article_dict['author'] = data_list[i]['author']\n",
    "            article_dict['article_content'] = data_list[i]['article_content'].strip(\"\\n\").strip(\"\\t\")\n",
    "            article_results.append(article_dict)\n",
    "        except IndexError:\n",
    "            pass\n",
    "    return article_results"
   ]
  },
  {
   "cell_type": "code",
   "execution_count": 87,
   "metadata": {},
   "outputs": [
    {
     "data": {
      "text/html": [
       "<div>\n",
       "<style scoped>\n",
       "    .dataframe tbody tr th:only-of-type {\n",
       "        vertical-align: middle;\n",
       "    }\n",
       "\n",
       "    .dataframe tbody tr th {\n",
       "        vertical-align: top;\n",
       "    }\n",
       "\n",
       "    .dataframe thead th {\n",
       "        text-align: right;\n",
       "    }\n",
       "</style>\n",
       "<table border=\"1\" class=\"dataframe\">\n",
       "  <thead>\n",
       "    <tr style=\"text-align: right;\">\n",
       "      <th></th>\n",
       "      <th>id</th>\n",
       "      <th>author</th>\n",
       "      <th>article_content</th>\n",
       "    </tr>\n",
       "  </thead>\n",
       "  <tbody>\n",
       "    <tr>\n",
       "      <th>0</th>\n",
       "      <td>1</td>\n",
       "      <td>None</td>\n",
       "      <td>When eight teenagers and an elderly nun in Australia teamed up for a climate case, they won, in a historic judgement. Their case has now been appealed by the country's government. If the final verdict swings in their favour, it will have ramifications not just for Australian law but for climate cases world-wide. \\nIn May this year, Anjali Sharma was sitting in her economics class at school in Melbourne when the court in Sydney live-streamed the results of a climate case she had found herself...</td>\n",
       "    </tr>\n",
       "    <tr>\n",
       "      <th>1</th>\n",
       "      <td>2</td>\n",
       "      <td>None</td>\n",
       "      <td>The highest temperature ever recorded in the Arctic, 38C (100F), has been officially confirmed, sounding \"alarm bells\" over Earth's changing climate.\\nThe World Meteorological Organization (WMO) on Tuesday verified the record, reported in the Siberian town of Verkhoyansk on 20 June last year. \\nThe temperature was 18C higher than the area's average daily maximum for June.\\nThe WMO, a UN agency, said the extreme heat was \"more befitting the Mediterranean than the Arctic\".\\nIt is the first tim...</td>\n",
       "    </tr>\n",
       "    <tr>\n",
       "      <th>2</th>\n",
       "      <td>3</td>\n",
       "      <td>None</td>\n",
       "      <td>Scientists are warning of dramatic changes at one of the biggest glaciers in Antarctica, potentially within the next five to 10 years.\\nThey say a floating section at the front of Thwaites Glacier that until now has been relatively stable could \"shatter like a car windscreen\". \\nUS and UK researchers are currently engaged in an intense study programme at Thwaites because of its melt rate. \\nAlready it is dumping 50 billion tonnes of ice into the ocean each year.\\nThis is having limited impac...</td>\n",
       "    </tr>\n",
       "    <tr>\n",
       "      <th>3</th>\n",
       "      <td>4</td>\n",
       "      <td>None</td>\n",
       "      <td>Making your home more energy efficient can be costly and may not be possible if you're renting, or you don't have thousands of pounds stashed away to buy new heat pumps and double glazing.\\nBut there are some cheap solutions to try to save money. We've looked at where you are likely to be losing the most energy in your home and come up with some simple solutions to help save money on your bills and keep warm this winter.\\nWarm air wants to leave your home and will find any nook and cranny to...</td>\n",
       "    </tr>\n",
       "    <tr>\n",
       "      <th>4</th>\n",
       "      <td>5</td>\n",
       "      <td>None</td>\n",
       "      <td>Indonesia pledged at the recent COP26 climate summit that its greenhouse gas emissions would peak by 2030 and then start to fall. \\nIt's also said that it will end deforestation by that same date.\\nBut to reduce emissions from its transport sector, it's relying on using more biofuels - production of which can lead to the loss of forested land.\\nSo how can it both curb its emissions using biofuels and end deforestation by 2030?\\nIndonesia is now the third largest producer of biofuels in the w...</td>\n",
       "    </tr>\n",
       "  </tbody>\n",
       "</table>\n",
       "</div>"
      ],
      "text/plain": [
       "   id author  \\\n",
       "0   1   None   \n",
       "1   2   None   \n",
       "2   3   None   \n",
       "3   4   None   \n",
       "4   5   None   \n",
       "\n",
       "                                                                                                                                                                                                                                                                                                                                                                                                                                                                                                       article_content  \n",
       "0  When eight teenagers and an elderly nun in Australia teamed up for a climate case, they won, in a historic judgement. Their case has now been appealed by the country's government. If the final verdict swings in their favour, it will have ramifications not just for Australian law but for climate cases world-wide. \\nIn May this year, Anjali Sharma was sitting in her economics class at school in Melbourne when the court in Sydney live-streamed the results of a climate case she had found herself...  \n",
       "1  The highest temperature ever recorded in the Arctic, 38C (100F), has been officially confirmed, sounding \"alarm bells\" over Earth's changing climate.\\nThe World Meteorological Organization (WMO) on Tuesday verified the record, reported in the Siberian town of Verkhoyansk on 20 June last year. \\nThe temperature was 18C higher than the area's average daily maximum for June.\\nThe WMO, a UN agency, said the extreme heat was \"more befitting the Mediterranean than the Arctic\".\\nIt is the first tim...  \n",
       "2  Scientists are warning of dramatic changes at one of the biggest glaciers in Antarctica, potentially within the next five to 10 years.\\nThey say a floating section at the front of Thwaites Glacier that until now has been relatively stable could \"shatter like a car windscreen\". \\nUS and UK researchers are currently engaged in an intense study programme at Thwaites because of its melt rate. \\nAlready it is dumping 50 billion tonnes of ice into the ocean each year.\\nThis is having limited impac...  \n",
       "3  Making your home more energy efficient can be costly and may not be possible if you're renting, or you don't have thousands of pounds stashed away to buy new heat pumps and double glazing.\\nBut there are some cheap solutions to try to save money. We've looked at where you are likely to be losing the most energy in your home and come up with some simple solutions to help save money on your bills and keep warm this winter.\\nWarm air wants to leave your home and will find any nook and cranny to...  \n",
       "4  Indonesia pledged at the recent COP26 climate summit that its greenhouse gas emissions would peak by 2030 and then start to fall. \\nIt's also said that it will end deforestation by that same date.\\nBut to reduce emissions from its transport sector, it's relying on using more biofuels - production of which can lead to the loss of forested land.\\nSo how can it both curb its emissions using biofuels and end deforestation by 2030?\\nIndonesia is now the third largest producer of biofuels in the w...  "
      ]
     },
     "execution_count": 87,
     "metadata": {},
     "output_type": "execute_result"
    }
   ],
   "source": [
    "Data = pd.DataFrame.from_dict(fetch_clean_data(data))\n",
    "pd.set_option('max_colwidth', 500)\n",
    "\n",
    "\n",
    "Data.head()"
   ]
  },
  {
   "cell_type": "code",
   "execution_count": 85,
   "metadata": {},
   "outputs": [],
   "source": [
    "Data.to_excel('exported_bbc_data.xlsx')"
   ]
  },
  {
   "cell_type": "markdown",
   "metadata": {},
   "source": [
    "<h1> II- Data preprocessing :</h1>"
   ]
  },
  {
   "cell_type": "markdown",
   "metadata": {},
   "source": [
    "### Introduction\n",
    "Feature engineering is an important process in the pipeline of any machine learning project.\n",
    "It involves applying a series of transformations to the data, including\n",
    "data, including eliminating bad records, encoding variables, scaling variables and finally eliminating\n",
    "scaling of variables and finally the elimination of variables with a high correlation.\n",
    "The motivation behind this process is to feed the algorithms with digested data\n",
    "and to improve their performance by reducing the learning time.\n",
    "In this project, different data processing techniques were applied to implement the machine learning models.\n",
    "the machine learning models and improve their performance, which we will discuss below.\n",
    "we will discuss below.\n",
    "### Missing value rate and zero variance\n",
    "Here we try to eliminate variables with a very high rate of missing values\n",
    "or zero variance. The following variables are then removed from our final database"
   ]
  },
  {
   "cell_type": "code",
   "execution_count": 29,
   "metadata": {},
   "outputs": [],
   "source": [
    "try:\n",
    "      axis='columns', inplace=True)\n",
    "except:\n",
    "    pass"
   ]
  },
  {
   "cell_type": "code",
   "execution_count": 30,
   "metadata": {},
   "outputs": [
    {
     "data": {
      "text/plain": [
       "Index(['title', 'description', 'url', 'urlToImage', 'publishedAt', 'content'], dtype='object')"
      ]
     },
     "execution_count": 30,
     "metadata": {},
     "output_type": "execute_result"
    }
   ],
   "source": [
    "data.columns"
   ]
  },
  {
   "cell_type": "code",
   "execution_count": 36,
   "metadata": {},
   "outputs": [
    {
     "name": "stdout",
     "output_type": "stream",
     "text": [
      "Image source, Getty Images\n",
      "Image caption, Industry leaders argue oil and gas extraction cannot be scaled back too quickly\n",
      "Business leaders have warned that thousands of oil and gas jobs could be at… [+5155 chars]\n"
     ]
    }
   ],
   "source": [
    "print(str(data.iloc[2]['content']))"
   ]
  },
  {
   "cell_type": "code",
   "execution_count": null,
   "metadata": {},
   "outputs": [],
   "source": []
  }
 ],
 "metadata": {
  "kernelspec": {
   "display_name": "Python 3",
   "language": "python",
   "name": "python3"
  },
  "language_info": {
   "codemirror_mode": {
    "name": "ipython",
    "version": 3
   },
   "file_extension": ".py",
   "mimetype": "text/x-python",
   "name": "python",
   "nbconvert_exporter": "python",
   "pygments_lexer": "ipython3",
   "version": "3.8.5"
  }
 },
 "nbformat": 4,
 "nbformat_minor": 4
}
