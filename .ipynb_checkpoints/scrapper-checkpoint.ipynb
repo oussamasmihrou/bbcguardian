{
 "cells": [
  {
   "cell_type": "code",
   "execution_count": 7,
   "metadata": {},
   "outputs": [
    {
     "name": "stdout",
     "output_type": "stream",
     "text": [
      "Requirement already satisfied: update in c:\\users\\oussama\\anaconda3\\lib\\site-packages (0.0.1)\n",
      "Requirement already satisfied: newsapi-python in c:\\users\\oussama\\anaconda3\\lib\\site-packages (0.2.6)\n",
      "Requirement already satisfied: style==1.1.0 in c:\\users\\oussama\\anaconda3\\lib\\site-packages (from update) (1.1.0)\n",
      "Requirement already satisfied: requests<3.0.0 in c:\\users\\oussama\\anaconda3\\lib\\site-packages (from newsapi-python) (2.24.0)\n",
      "Requirement already satisfied: idna<3,>=2.5 in c:\\users\\oussama\\anaconda3\\lib\\site-packages (from requests<3.0.0->newsapi-python) (2.10)\n",
      "Requirement already satisfied: urllib3!=1.25.0,!=1.25.1,<1.26,>=1.21.1 in c:\\users\\oussama\\anaconda3\\lib\\site-packages (from requests<3.0.0->newsapi-python) (1.25.11)\n",
      "Requirement already satisfied: chardet<4,>=3.0.2 in c:\\users\\oussama\\anaconda3\\lib\\site-packages (from requests<3.0.0->newsapi-python) (3.0.4)\n",
      "Requirement already satisfied: certifi>=2017.4.17 in c:\\users\\oussama\\anaconda3\\lib\\site-packages (from requests<3.0.0->newsapi-python) (2020.6.20)\n"
     ]
    }
   ],
   "source": [
    "!pip install update newsapi-python"
   ]
  },
  {
   "cell_type": "code",
   "execution_count": 8,
   "metadata": {},
   "outputs": [],
   "source": [
    "import requests\n",
    "import json\n",
    "import numpy as np\n",
    "import pandas as pd\n",
    "import matplotlib\n",
    "from newsapi import NewsApiClient"
   ]
  },
  {
   "cell_type": "markdown",
   "metadata": {},
   "source": [
    "Used to fetch news data from newsapi, sign up to have your own key."
   ]
  },
  {
   "cell_type": "code",
   "execution_count": 13,
   "metadata": {},
   "outputs": [],
   "source": [
    "api_key = 'a824363ba91f4148a0d66ed0f1efcf0b' "
   ]
  },
  {
   "cell_type": "code",
   "execution_count": 14,
   "metadata": {},
   "outputs": [],
   "source": [
    "def get_articles(file): \n",
    "    article_results = [] \n",
    "    for i in range(len(file['articles'])):\n",
    "        try:\n",
    "            article_dict = {}\n",
    "            article_dict['title'] = file['articles'][i]['title']\n",
    "            article_dict['author'] = file['articles'][i]['author']\n",
    "            article_dict['source'] = file['articles'][i]['source']\n",
    "            article_dict['description'] = file['articles'][i]['description']\n",
    "            article_dict['content'] = file['articles'][i]['content']\n",
    "            article_dict['pub_date'] = file['articles'][i]['publishedAt']\n",
    "            article_dict['url'] = file['articles'][i][\"url\"]\n",
    "            article_dict['photo_url'] = file['articles'][i]['urlToImage']\n",
    "            article_results.append(article_dict)\n",
    "        except KeyError:\n",
    "            pass\n",
    "    return article_results\n"
   ]
  },
  {
   "cell_type": "code",
   "execution_count": 15,
   "metadata": {},
   "outputs": [
    {
     "data": {
      "text/plain": [
       "148"
      ]
     },
     "execution_count": 15,
     "metadata": {},
     "output_type": "execute_result"
    }
   ],
   "source": [
    "# Fetch article from multiple result pages\n",
    "   \n",
    "newsapi = NewsApiClient(api_key=api_key)\n",
    "max_pages = 10\n",
    "data = pd.DataFrame.from_dict({}) \n",
    "try:    \n",
    "    for i in range(1,max_pages-1):\n",
    "        all_articles = newsapi.get_everything(q='climate', sources='bbc-news',domains='bbc.com',from_param='2021-12-01',to='2021-12-14',language='en',sort_by='relevancy',page = i)\n",
    "        data2 = pd.DataFrame.from_dict({}) \n",
    "        for j in all_articles['articles']:\n",
    "            data2 = pd.concat([pd.DataFrame.from_dict(j),data2])\n",
    "        data = pd.concat([data,data2])\n",
    "except:\n",
    "    pass\n",
    "len(data)\n"
   ]
  },
  {
   "cell_type": "code",
   "execution_count": 24,
   "metadata": {},
   "outputs": [
    {
     "data": {
      "text/html": [
       "<div>\n",
       "<style scoped>\n",
       "    .dataframe tbody tr th:only-of-type {\n",
       "        vertical-align: middle;\n",
       "    }\n",
       "\n",
       "    .dataframe tbody tr th {\n",
       "        vertical-align: top;\n",
       "    }\n",
       "\n",
       "    .dataframe thead th {\n",
       "        text-align: right;\n",
       "    }\n",
       "</style>\n",
       "<table border=\"1\" class=\"dataframe\">\n",
       "  <thead>\n",
       "    <tr style=\"text-align: right;\">\n",
       "      <th></th>\n",
       "      <th>author</th>\n",
       "      <th>title</th>\n",
       "      <th>description</th>\n",
       "      <th>url</th>\n",
       "      <th>urlToImage</th>\n",
       "      <th>publishedAt</th>\n",
       "      <th>content</th>\n",
       "    </tr>\n",
       "  </thead>\n",
       "  <tbody>\n",
       "    <tr>\n",
       "      <th>id</th>\n",
       "      <td>https://www.facebook.com/bbcnews</td>\n",
       "      <td>Nasa: Belfast mathematician working towards he...</td>\n",
       "      <td>Dr Caoimhe Rooney, from Belfast, keeps one eye...</td>\n",
       "      <td>https://www.bbc.co.uk/news/uk-northern-ireland...</td>\n",
       "      <td>https://ichef.bbci.co.uk/news/1024/branded_new...</td>\n",
       "      <td>2021-12-05T06:24:31Z</td>\n",
       "      <td>By Mike McBrideBBC News NI\\r\\nImage source, Ca...</td>\n",
       "    </tr>\n",
       "    <tr>\n",
       "      <th>name</th>\n",
       "      <td>https://www.facebook.com/bbcnews</td>\n",
       "      <td>Nasa: Belfast mathematician working towards he...</td>\n",
       "      <td>Dr Caoimhe Rooney, from Belfast, keeps one eye...</td>\n",
       "      <td>https://www.bbc.co.uk/news/uk-northern-ireland...</td>\n",
       "      <td>https://ichef.bbci.co.uk/news/1024/branded_new...</td>\n",
       "      <td>2021-12-05T06:24:31Z</td>\n",
       "      <td>By Mike McBrideBBC News NI\\r\\nImage source, Ca...</td>\n",
       "    </tr>\n",
       "    <tr>\n",
       "      <th>id</th>\n",
       "      <td>https://www.facebook.com/bbcnews</td>\n",
       "      <td>Cambo: Jobs warning as Shell pulls out of oil ...</td>\n",
       "      <td>Climate change campaigners welcome the move bu...</td>\n",
       "      <td>https://www.bbc.co.uk/news/uk-scotland-north-e...</td>\n",
       "      <td>https://ichef.bbci.co.uk/news/1024/branded_new...</td>\n",
       "      <td>2021-12-03T12:26:03Z</td>\n",
       "      <td>Image source, Getty Images\\r\\nImage caption, I...</td>\n",
       "    </tr>\n",
       "    <tr>\n",
       "      <th>name</th>\n",
       "      <td>https://www.facebook.com/bbcnews</td>\n",
       "      <td>Cambo: Jobs warning as Shell pulls out of oil ...</td>\n",
       "      <td>Climate change campaigners welcome the move bu...</td>\n",
       "      <td>https://www.bbc.co.uk/news/uk-scotland-north-e...</td>\n",
       "      <td>https://ichef.bbci.co.uk/news/1024/branded_new...</td>\n",
       "      <td>2021-12-03T12:26:03Z</td>\n",
       "      <td>Image source, Getty Images\\r\\nImage caption, I...</td>\n",
       "    </tr>\n",
       "    <tr>\n",
       "      <th>id</th>\n",
       "      <td>https://www.facebook.com/bbcnews</td>\n",
       "      <td>Trainee police officers were deployed during C...</td>\n",
       "      <td>A total of 140 trainees were deployed during t...</td>\n",
       "      <td>https://www.bbc.co.uk/news/uk-scotland-59547255</td>\n",
       "      <td>https://ichef.bbci.co.uk/news/1024/branded_new...</td>\n",
       "      <td>2021-12-07T06:14:15Z</td>\n",
       "      <td>Image caption, Police and demonstrators at an ...</td>\n",
       "    </tr>\n",
       "    <tr>\n",
       "      <th>...</th>\n",
       "      <td>...</td>\n",
       "      <td>...</td>\n",
       "      <td>...</td>\n",
       "      <td>...</td>\n",
       "      <td>...</td>\n",
       "      <td>...</td>\n",
       "      <td>...</td>\n",
       "    </tr>\n",
       "    <tr>\n",
       "      <th>name</th>\n",
       "      <td>https://www.facebook.com/bbcnews</td>\n",
       "      <td>Downing Street party: Who is Allegra Stratton ...</td>\n",
       "      <td>A profile of the woman who has resigned over u...</td>\n",
       "      <td>https://www.bbc.co.uk/news/uk-politics-59576697</td>\n",
       "      <td>https://ichef.bbci.co.uk/news/1024/branded_new...</td>\n",
       "      <td>2021-12-08T18:31:11Z</td>\n",
       "      <td>By Justin Parkinson &amp;amp; Brian WheelerBBC New...</td>\n",
       "    </tr>\n",
       "    <tr>\n",
       "      <th>id</th>\n",
       "      <td>None</td>\n",
       "      <td>US Supreme Court hears landmark abortion case</td>\n",
       "      <td>The US Supreme Court is hearing arguments in t...</td>\n",
       "      <td>https://www.bbc.co.uk/programmes/w172xv5gstr70y9</td>\n",
       "      <td>https://ichef.bbci.co.uk/images/ic/1200x675/p0...</td>\n",
       "      <td>2021-12-01T22:17:00Z</td>\n",
       "      <td>The US Supreme Court is hearing arguments in t...</td>\n",
       "    </tr>\n",
       "    <tr>\n",
       "      <th>name</th>\n",
       "      <td>None</td>\n",
       "      <td>US Supreme Court hears landmark abortion case</td>\n",
       "      <td>The US Supreme Court is hearing arguments in t...</td>\n",
       "      <td>https://www.bbc.co.uk/programmes/w172xv5gstr70y9</td>\n",
       "      <td>https://ichef.bbci.co.uk/images/ic/1200x675/p0...</td>\n",
       "      <td>2021-12-01T22:17:00Z</td>\n",
       "      <td>The US Supreme Court is hearing arguments in t...</td>\n",
       "    </tr>\n",
       "    <tr>\n",
       "      <th>id</th>\n",
       "      <td>https://www.facebook.com/bbcnews</td>\n",
       "      <td>Pope condemns treatment of migrants in Europe</td>\n",
       "      <td>Visiting a camp in Greece, Francis called on E...</td>\n",
       "      <td>https://www.bbc.co.uk/news/world-europe-59538413</td>\n",
       "      <td>https://ichef.bbci.co.uk/news/1024/branded_new...</td>\n",
       "      <td>2021-12-05T11:47:39Z</td>\n",
       "      <td>The Pope has denounced \"narrow self-interest a...</td>\n",
       "    </tr>\n",
       "    <tr>\n",
       "      <th>name</th>\n",
       "      <td>https://www.facebook.com/bbcnews</td>\n",
       "      <td>Pope condemns treatment of migrants in Europe</td>\n",
       "      <td>Visiting a camp in Greece, Francis called on E...</td>\n",
       "      <td>https://www.bbc.co.uk/news/world-europe-59538413</td>\n",
       "      <td>https://ichef.bbci.co.uk/news/1024/branded_new...</td>\n",
       "      <td>2021-12-05T11:47:39Z</td>\n",
       "      <td>The Pope has denounced \"narrow self-interest a...</td>\n",
       "    </tr>\n",
       "  </tbody>\n",
       "</table>\n",
       "<p>148 rows × 7 columns</p>\n",
       "</div>"
      ],
      "text/plain": [
       "                                author  \\\n",
       "id    https://www.facebook.com/bbcnews   \n",
       "name  https://www.facebook.com/bbcnews   \n",
       "id    https://www.facebook.com/bbcnews   \n",
       "name  https://www.facebook.com/bbcnews   \n",
       "id    https://www.facebook.com/bbcnews   \n",
       "...                                ...   \n",
       "name  https://www.facebook.com/bbcnews   \n",
       "id                                None   \n",
       "name                              None   \n",
       "id    https://www.facebook.com/bbcnews   \n",
       "name  https://www.facebook.com/bbcnews   \n",
       "\n",
       "                                                  title  \\\n",
       "id    Nasa: Belfast mathematician working towards he...   \n",
       "name  Nasa: Belfast mathematician working towards he...   \n",
       "id    Cambo: Jobs warning as Shell pulls out of oil ...   \n",
       "name  Cambo: Jobs warning as Shell pulls out of oil ...   \n",
       "id    Trainee police officers were deployed during C...   \n",
       "...                                                 ...   \n",
       "name  Downing Street party: Who is Allegra Stratton ...   \n",
       "id        US Supreme Court hears landmark abortion case   \n",
       "name      US Supreme Court hears landmark abortion case   \n",
       "id        Pope condemns treatment of migrants in Europe   \n",
       "name      Pope condemns treatment of migrants in Europe   \n",
       "\n",
       "                                            description  \\\n",
       "id    Dr Caoimhe Rooney, from Belfast, keeps one eye...   \n",
       "name  Dr Caoimhe Rooney, from Belfast, keeps one eye...   \n",
       "id    Climate change campaigners welcome the move bu...   \n",
       "name  Climate change campaigners welcome the move bu...   \n",
       "id    A total of 140 trainees were deployed during t...   \n",
       "...                                                 ...   \n",
       "name  A profile of the woman who has resigned over u...   \n",
       "id    The US Supreme Court is hearing arguments in t...   \n",
       "name  The US Supreme Court is hearing arguments in t...   \n",
       "id    Visiting a camp in Greece, Francis called on E...   \n",
       "name  Visiting a camp in Greece, Francis called on E...   \n",
       "\n",
       "                                                    url  \\\n",
       "id    https://www.bbc.co.uk/news/uk-northern-ireland...   \n",
       "name  https://www.bbc.co.uk/news/uk-northern-ireland...   \n",
       "id    https://www.bbc.co.uk/news/uk-scotland-north-e...   \n",
       "name  https://www.bbc.co.uk/news/uk-scotland-north-e...   \n",
       "id      https://www.bbc.co.uk/news/uk-scotland-59547255   \n",
       "...                                                 ...   \n",
       "name    https://www.bbc.co.uk/news/uk-politics-59576697   \n",
       "id     https://www.bbc.co.uk/programmes/w172xv5gstr70y9   \n",
       "name   https://www.bbc.co.uk/programmes/w172xv5gstr70y9   \n",
       "id     https://www.bbc.co.uk/news/world-europe-59538413   \n",
       "name   https://www.bbc.co.uk/news/world-europe-59538413   \n",
       "\n",
       "                                             urlToImage           publishedAt  \\\n",
       "id    https://ichef.bbci.co.uk/news/1024/branded_new...  2021-12-05T06:24:31Z   \n",
       "name  https://ichef.bbci.co.uk/news/1024/branded_new...  2021-12-05T06:24:31Z   \n",
       "id    https://ichef.bbci.co.uk/news/1024/branded_new...  2021-12-03T12:26:03Z   \n",
       "name  https://ichef.bbci.co.uk/news/1024/branded_new...  2021-12-03T12:26:03Z   \n",
       "id    https://ichef.bbci.co.uk/news/1024/branded_new...  2021-12-07T06:14:15Z   \n",
       "...                                                 ...                   ...   \n",
       "name  https://ichef.bbci.co.uk/news/1024/branded_new...  2021-12-08T18:31:11Z   \n",
       "id    https://ichef.bbci.co.uk/images/ic/1200x675/p0...  2021-12-01T22:17:00Z   \n",
       "name  https://ichef.bbci.co.uk/images/ic/1200x675/p0...  2021-12-01T22:17:00Z   \n",
       "id    https://ichef.bbci.co.uk/news/1024/branded_new...  2021-12-05T11:47:39Z   \n",
       "name  https://ichef.bbci.co.uk/news/1024/branded_new...  2021-12-05T11:47:39Z   \n",
       "\n",
       "                                                content  \n",
       "id    By Mike McBrideBBC News NI\\r\\nImage source, Ca...  \n",
       "name  By Mike McBrideBBC News NI\\r\\nImage source, Ca...  \n",
       "id    Image source, Getty Images\\r\\nImage caption, I...  \n",
       "name  Image source, Getty Images\\r\\nImage caption, I...  \n",
       "id    Image caption, Police and demonstrators at an ...  \n",
       "...                                                 ...  \n",
       "name  By Justin Parkinson &amp; Brian WheelerBBC New...  \n",
       "id    The US Supreme Court is hearing arguments in t...  \n",
       "name  The US Supreme Court is hearing arguments in t...  \n",
       "id    The Pope has denounced \"narrow self-interest a...  \n",
       "name  The Pope has denounced \"narrow self-interest a...  \n",
       "\n",
       "[148 rows x 7 columns]"
      ]
     },
     "execution_count": 24,
     "metadata": {},
     "output_type": "execute_result"
    }
   ],
   "source": [
    "data"
   ]
  },
  {
   "cell_type": "code",
   "execution_count": 17,
   "metadata": {},
   "outputs": [
    {
     "data": {
      "text/plain": [
       "count                                  132\n",
       "unique                                   4\n",
       "top       https://www.facebook.com/bbcnews\n",
       "freq                                   122\n",
       "Name: author, dtype: object"
      ]
     },
     "execution_count": 17,
     "metadata": {},
     "output_type": "execute_result"
    }
   ],
   "source": [
    "data.author.describe()"
   ]
  },
  {
   "cell_type": "code",
   "execution_count": 18,
   "metadata": {},
   "outputs": [
    {
     "data": {
      "text/plain": [
       "Index(['source', 'author', 'title', 'description', 'url', 'urlToImage',\n",
       "       'publishedAt', 'content'],\n",
       "      dtype='object')"
      ]
     },
     "execution_count": 18,
     "metadata": {},
     "output_type": "execute_result"
    }
   ],
   "source": [
    "data.columns"
   ]
  },
  {
   "cell_type": "code",
   "execution_count": 19,
   "metadata": {},
   "outputs": [],
   "source": [
    "data.to_excel('data.xlsx')\n"
   ]
  },
  {
   "cell_type": "markdown",
   "metadata": {},
   "source": [
    "<h1> II- Data preprocessing :</h1>"
   ]
  },
  {
   "cell_type": "markdown",
   "metadata": {},
   "source": [
    "### Introduction\n",
    "Feature engineering is an important process in the pipeline of any machine learning project.\n",
    "machine learning project. It involves applying a series of transformations to the data, including\n",
    "data, including eliminating bad records, encoding variables, scaling variables and finally eliminating\n",
    "scaling of variables and finally the elimination of variables with a high correlation.\n",
    "The motivation behind this process is to feed the algorithms with digested data\n",
    "and to improve their performance by reducing the learning time.\n",
    "In this project, different data processing techniques were applied to implement the machine learning models.\n",
    "the machine learning models and improve their performance, which we will discuss below.\n",
    "we will discuss below.\n",
    "### Missing value rate and zero variance\n",
    "Here we try to eliminate variables with a very high rate of missing values\n",
    "or zero variance. The following variables are then removed from our final database"
   ]
  },
  {
   "cell_type": "code",
   "execution_count": 29,
   "metadata": {},
   "outputs": [],
   "source": [
    "try:\n",
    "    data.drop(['source','author'],\n",
    "      axis='columns', inplace=True)\n",
    "except:\n",
    "    pass"
   ]
  },
  {
   "cell_type": "code",
   "execution_count": 30,
   "metadata": {},
   "outputs": [
    {
     "data": {
      "text/plain": [
       "Index(['title', 'description', 'url', 'urlToImage', 'publishedAt', 'content'], dtype='object')"
      ]
     },
     "execution_count": 30,
     "metadata": {},
     "output_type": "execute_result"
    }
   ],
   "source": [
    "data.columns"
   ]
  },
  {
   "cell_type": "code",
   "execution_count": null,
   "metadata": {},
   "outputs": [],
   "source": []
  }
 ],
 "metadata": {
  "kernelspec": {
   "display_name": "Python 3",
   "language": "python",
   "name": "python3"
  },
  "language_info": {
   "codemirror_mode": {
    "name": "ipython",
    "version": 3
   },
   "file_extension": ".py",
   "mimetype": "text/x-python",
   "name": "python",
   "nbconvert_exporter": "python",
   "pygments_lexer": "ipython3",
   "version": "3.8.5"
  }
 },
 "nbformat": 4,
 "nbformat_minor": 4
}
